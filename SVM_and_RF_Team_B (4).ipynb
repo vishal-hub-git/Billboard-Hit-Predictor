{
  "nbformat": 4,
  "nbformat_minor": 0,
  "metadata": {
    "kernelspec": {
      "display_name": "Python 3",
      "language": "python",
      "name": "python3"
    },
    "language_info": {
      "codemirror_mode": {
        "name": "ipython",
        "version": 3
      },
      "file_extension": ".py",
      "mimetype": "text/x-python",
      "name": "python",
      "nbconvert_exporter": "python",
      "pygments_lexer": "ipython3",
      "version": "3.8.5"
    },
    "colab": {
      "name": "SVM_and_RF_Team_B.ipynb",
      "provenance": [],
      "collapsed_sections": []
    }
  },
  "cells": [
    {
      "cell_type": "markdown",
      "metadata": {
        "id": "D174SXI9WcRW"
      },
      "source": [
        "SVM Model"
      ]
    },
    {
      "cell_type": "code",
      "metadata": {
        "id": "snHV6reaNxZh"
      },
      "source": [
        "import pandas as pd\n",
        "import numpy as np\n",
        "import matplotlib.pyplot as plt\n",
        "import seaborn as sns\n",
        "import scipy.stats as stats"
      ],
      "execution_count": 33,
      "outputs": []
    },
    {
      "cell_type": "code",
      "metadata": {
        "colab": {
          "base_uri": "https://localhost:8080/",
          "height": 408
        },
        "id": "frFScF5UNxZk",
        "outputId": "1364f9b3-f759-4807-aadf-4d7dd85bb7ef"
      },
      "source": [
        "data = pd.read_csv(\"/content/final_data1.csv\")\n",
        "data.head(5)"
      ],
      "execution_count": 34,
      "outputs": [
        {
          "output_type": "execute_result",
          "data": {
            "text/html": [
              "<div>\n",
              "<style scoped>\n",
              "    .dataframe tbody tr th:only-of-type {\n",
              "        vertical-align: middle;\n",
              "    }\n",
              "\n",
              "    .dataframe tbody tr th {\n",
              "        vertical-align: top;\n",
              "    }\n",
              "\n",
              "    .dataframe thead th {\n",
              "        text-align: right;\n",
              "    }\n",
              "</style>\n",
              "<table border=\"1\" class=\"dataframe\">\n",
              "  <thead>\n",
              "    <tr style=\"text-align: right;\">\n",
              "      <th></th>\n",
              "      <th>Artist</th>\n",
              "      <th>Track</th>\n",
              "      <th>SpotifyID</th>\n",
              "      <th>danceability</th>\n",
              "      <th>energy</th>\n",
              "      <th>loudness</th>\n",
              "      <th>speechiness</th>\n",
              "      <th>acousticness</th>\n",
              "      <th>instrumentalness</th>\n",
              "      <th>liveness</th>\n",
              "      <th>valence</th>\n",
              "      <th>tempo</th>\n",
              "      <th>Key_mode_Ratio</th>\n",
              "      <th>duration_ms</th>\n",
              "      <th>billboard_hit</th>\n",
              "    </tr>\n",
              "  </thead>\n",
              "  <tbody>\n",
              "    <tr>\n",
              "      <th>0</th>\n",
              "      <td>Sonora Santanera</td>\n",
              "      <td>Amor De Cabaret</td>\n",
              "      <td>5JeyXbf7CrVQ8DqwFikN0P</td>\n",
              "      <td>0.699</td>\n",
              "      <td>0.519</td>\n",
              "      <td>-6.422</td>\n",
              "      <td>0.0290</td>\n",
              "      <td>0.689000</td>\n",
              "      <td>0.000471</td>\n",
              "      <td>0.9350</td>\n",
              "      <td>0.676</td>\n",
              "      <td>102.463</td>\n",
              "      <td>8.0</td>\n",
              "      <td>183027</td>\n",
              "      <td>0</td>\n",
              "    </tr>\n",
              "    <tr>\n",
              "      <th>1</th>\n",
              "      <td>JennyAnyKind</td>\n",
              "      <td>Young Boy Blues</td>\n",
              "      <td>5uN6oY2NGLC6GKoywHKkZA</td>\n",
              "      <td>0.458</td>\n",
              "      <td>0.570</td>\n",
              "      <td>-9.159</td>\n",
              "      <td>0.0495</td>\n",
              "      <td>0.000055</td>\n",
              "      <td>0.000768</td>\n",
              "      <td>0.0988</td>\n",
              "      <td>0.203</td>\n",
              "      <td>146.609</td>\n",
              "      <td>0.0</td>\n",
              "      <td>218907</td>\n",
              "      <td>0</td>\n",
              "    </tr>\n",
              "    <tr>\n",
              "      <th>2</th>\n",
              "      <td>Casual</td>\n",
              "      <td>I Didn't Mean To</td>\n",
              "      <td>01TR6aAKrA2cI3Z0gnCOsu</td>\n",
              "      <td>0.751</td>\n",
              "      <td>0.549</td>\n",
              "      <td>-10.508</td>\n",
              "      <td>0.4290</td>\n",
              "      <td>0.063000</td>\n",
              "      <td>0.000025</td>\n",
              "      <td>0.1060</td>\n",
              "      <td>0.553</td>\n",
              "      <td>92.224</td>\n",
              "      <td>0.0</td>\n",
              "      <td>218933</td>\n",
              "      <td>0</td>\n",
              "    </tr>\n",
              "    <tr>\n",
              "      <th>3</th>\n",
              "      <td>Jeff And Sheri Easter</td>\n",
              "      <td>The Moon And I (Ordinary Day Album Version)</td>\n",
              "      <td>7ERvcsBBYzSHqQQqlI9xAN</td>\n",
              "      <td>0.456</td>\n",
              "      <td>0.472</td>\n",
              "      <td>-8.328</td>\n",
              "      <td>0.0325</td>\n",
              "      <td>0.706000</td>\n",
              "      <td>0.000005</td>\n",
              "      <td>0.0833</td>\n",
              "      <td>0.286</td>\n",
              "      <td>147.565</td>\n",
              "      <td>5.0</td>\n",
              "      <td>267640</td>\n",
              "      <td>0</td>\n",
              "    </tr>\n",
              "    <tr>\n",
              "      <th>4</th>\n",
              "      <td>Tweeterfriendly Music</td>\n",
              "      <td>Drop of Rain</td>\n",
              "      <td>6dfppQDZQ4x3fCs6N89kV3</td>\n",
              "      <td>0.498</td>\n",
              "      <td>0.300</td>\n",
              "      <td>-10.716</td>\n",
              "      <td>0.0352</td>\n",
              "      <td>0.553000</td>\n",
              "      <td>0.000116</td>\n",
              "      <td>0.0963</td>\n",
              "      <td>0.185</td>\n",
              "      <td>100.315</td>\n",
              "      <td>7.0</td>\n",
              "      <td>189560</td>\n",
              "      <td>0</td>\n",
              "    </tr>\n",
              "  </tbody>\n",
              "</table>\n",
              "</div>"
            ],
            "text/plain": [
              "                  Artist  ... billboard_hit\n",
              "0       Sonora Santanera  ...             0\n",
              "1           JennyAnyKind  ...             0\n",
              "2                 Casual  ...             0\n",
              "3  Jeff And Sheri Easter  ...             0\n",
              "4  Tweeterfriendly Music  ...             0\n",
              "\n",
              "[5 rows x 15 columns]"
            ]
          },
          "metadata": {
            "tags": []
          },
          "execution_count": 34
        }
      ]
    },
    {
      "cell_type": "code",
      "metadata": {
        "colab": {
          "base_uri": "https://localhost:8080/",
          "height": 315
        },
        "id": "bptPN04mNxZm",
        "outputId": "a5cdcde6-85c6-42f8-e0dd-c4d91f2f61a0"
      },
      "source": [
        "data.describe()"
      ],
      "execution_count": 35,
      "outputs": [
        {
          "output_type": "execute_result",
          "data": {
            "text/html": [
              "<div>\n",
              "<style scoped>\n",
              "    .dataframe tbody tr th:only-of-type {\n",
              "        vertical-align: middle;\n",
              "    }\n",
              "\n",
              "    .dataframe tbody tr th {\n",
              "        vertical-align: top;\n",
              "    }\n",
              "\n",
              "    .dataframe thead th {\n",
              "        text-align: right;\n",
              "    }\n",
              "</style>\n",
              "<table border=\"1\" class=\"dataframe\">\n",
              "  <thead>\n",
              "    <tr style=\"text-align: right;\">\n",
              "      <th></th>\n",
              "      <th>danceability</th>\n",
              "      <th>energy</th>\n",
              "      <th>loudness</th>\n",
              "      <th>speechiness</th>\n",
              "      <th>acousticness</th>\n",
              "      <th>instrumentalness</th>\n",
              "      <th>liveness</th>\n",
              "      <th>valence</th>\n",
              "      <th>tempo</th>\n",
              "      <th>Key_mode_Ratio</th>\n",
              "      <th>duration_ms</th>\n",
              "      <th>billboard_hit</th>\n",
              "    </tr>\n",
              "  </thead>\n",
              "  <tbody>\n",
              "    <tr>\n",
              "      <th>count</th>\n",
              "      <td>14637.000000</td>\n",
              "      <td>14637.000000</td>\n",
              "      <td>14637.000000</td>\n",
              "      <td>14637.000000</td>\n",
              "      <td>14637.000000</td>\n",
              "      <td>14637.000000</td>\n",
              "      <td>14637.000000</td>\n",
              "      <td>14637.000000</td>\n",
              "      <td>14637.000000</td>\n",
              "      <td>14637.000000</td>\n",
              "      <td>1.463700e+04</td>\n",
              "      <td>14637.000000</td>\n",
              "    </tr>\n",
              "    <tr>\n",
              "      <th>mean</th>\n",
              "      <td>0.600834</td>\n",
              "      <td>0.650782</td>\n",
              "      <td>-7.782832</td>\n",
              "      <td>0.097318</td>\n",
              "      <td>0.232584</td>\n",
              "      <td>0.085688</td>\n",
              "      <td>0.198051</td>\n",
              "      <td>0.525100</td>\n",
              "      <td>120.638107</td>\n",
              "      <td>3.305049</td>\n",
              "      <td>2.406734e+05</td>\n",
              "      <td>0.627041</td>\n",
              "    </tr>\n",
              "    <tr>\n",
              "      <th>std</th>\n",
              "      <td>0.167885</td>\n",
              "      <td>0.216254</td>\n",
              "      <td>4.083115</td>\n",
              "      <td>0.115077</td>\n",
              "      <td>0.282137</td>\n",
              "      <td>0.235613</td>\n",
              "      <td>0.170423</td>\n",
              "      <td>0.245209</td>\n",
              "      <td>29.838461</td>\n",
              "      <td>3.690942</td>\n",
              "      <td>9.078982e+04</td>\n",
              "      <td>0.483608</td>\n",
              "    </tr>\n",
              "    <tr>\n",
              "      <th>min</th>\n",
              "      <td>0.000000</td>\n",
              "      <td>0.000020</td>\n",
              "      <td>-54.909000</td>\n",
              "      <td>0.000000</td>\n",
              "      <td>0.000001</td>\n",
              "      <td>0.000000</td>\n",
              "      <td>0.000000</td>\n",
              "      <td>0.000000</td>\n",
              "      <td>0.000000</td>\n",
              "      <td>0.000000</td>\n",
              "      <td>6.477000e+03</td>\n",
              "      <td>0.000000</td>\n",
              "    </tr>\n",
              "    <tr>\n",
              "      <th>25%</th>\n",
              "      <td>0.497000</td>\n",
              "      <td>0.509000</td>\n",
              "      <td>-9.464000</td>\n",
              "      <td>0.034600</td>\n",
              "      <td>0.017600</td>\n",
              "      <td>0.000000</td>\n",
              "      <td>0.092900</td>\n",
              "      <td>0.330000</td>\n",
              "      <td>97.002000</td>\n",
              "      <td>0.000000</td>\n",
              "      <td>2.004930e+05</td>\n",
              "      <td>0.000000</td>\n",
              "    </tr>\n",
              "    <tr>\n",
              "      <th>50%</th>\n",
              "      <td>0.615000</td>\n",
              "      <td>0.684000</td>\n",
              "      <td>-6.818000</td>\n",
              "      <td>0.049100</td>\n",
              "      <td>0.099300</td>\n",
              "      <td>0.000005</td>\n",
              "      <td>0.129000</td>\n",
              "      <td>0.531000</td>\n",
              "      <td>119.838000</td>\n",
              "      <td>2.000000</td>\n",
              "      <td>2.317730e+05</td>\n",
              "      <td>1.000000</td>\n",
              "    </tr>\n",
              "    <tr>\n",
              "      <th>75%</th>\n",
              "      <td>0.722000</td>\n",
              "      <td>0.822000</td>\n",
              "      <td>-5.088000</td>\n",
              "      <td>0.105000</td>\n",
              "      <td>0.361000</td>\n",
              "      <td>0.001710</td>\n",
              "      <td>0.258000</td>\n",
              "      <td>0.724000</td>\n",
              "      <td>139.821000</td>\n",
              "      <td>7.000000</td>\n",
              "      <td>2.689330e+05</td>\n",
              "      <td>1.000000</td>\n",
              "    </tr>\n",
              "    <tr>\n",
              "      <th>max</th>\n",
              "      <td>0.986000</td>\n",
              "      <td>1.000000</td>\n",
              "      <td>0.316000</td>\n",
              "      <td>0.956000</td>\n",
              "      <td>0.996000</td>\n",
              "      <td>0.991000</td>\n",
              "      <td>0.997000</td>\n",
              "      <td>0.992000</td>\n",
              "      <td>245.941000</td>\n",
              "      <td>11.000000</td>\n",
              "      <td>4.802553e+06</td>\n",
              "      <td>1.000000</td>\n",
              "    </tr>\n",
              "  </tbody>\n",
              "</table>\n",
              "</div>"
            ],
            "text/plain": [
              "       danceability        energy  ...   duration_ms  billboard_hit\n",
              "count  14637.000000  14637.000000  ...  1.463700e+04   14637.000000\n",
              "mean       0.600834      0.650782  ...  2.406734e+05       0.627041\n",
              "std        0.167885      0.216254  ...  9.078982e+04       0.483608\n",
              "min        0.000000      0.000020  ...  6.477000e+03       0.000000\n",
              "25%        0.497000      0.509000  ...  2.004930e+05       0.000000\n",
              "50%        0.615000      0.684000  ...  2.317730e+05       1.000000\n",
              "75%        0.722000      0.822000  ...  2.689330e+05       1.000000\n",
              "max        0.986000      1.000000  ...  4.802553e+06       1.000000\n",
              "\n",
              "[8 rows x 12 columns]"
            ]
          },
          "metadata": {
            "tags": []
          },
          "execution_count": 35
        }
      ]
    },
    {
      "cell_type": "code",
      "metadata": {
        "colab": {
          "base_uri": "https://localhost:8080/"
        },
        "id": "YGTL7uf2NxZn",
        "outputId": "1dfcde7d-d9ac-477c-fa86-2e5c82d91d29"
      },
      "source": [
        "data.info()"
      ],
      "execution_count": 36,
      "outputs": [
        {
          "output_type": "stream",
          "text": [
            "<class 'pandas.core.frame.DataFrame'>\n",
            "RangeIndex: 14637 entries, 0 to 14636\n",
            "Data columns (total 15 columns):\n",
            " #   Column            Non-Null Count  Dtype  \n",
            "---  ------            --------------  -----  \n",
            " 0   Artist            14637 non-null  object \n",
            " 1   Track             14637 non-null  object \n",
            " 2   SpotifyID         14637 non-null  object \n",
            " 3   danceability      14637 non-null  float64\n",
            " 4   energy            14637 non-null  float64\n",
            " 5   loudness          14637 non-null  float64\n",
            " 6   speechiness       14637 non-null  float64\n",
            " 7   acousticness      14637 non-null  float64\n",
            " 8   instrumentalness  14637 non-null  float64\n",
            " 9   liveness          14637 non-null  float64\n",
            " 10  valence           14637 non-null  float64\n",
            " 11  tempo             14637 non-null  float64\n",
            " 12  Key_mode_Ratio    14637 non-null  float64\n",
            " 13  duration_ms       14637 non-null  int64  \n",
            " 14  billboard_hit     14637 non-null  int64  \n",
            "dtypes: float64(10), int64(2), object(3)\n",
            "memory usage: 1.7+ MB\n"
          ],
          "name": "stdout"
        }
      ]
    },
    {
      "cell_type": "code",
      "metadata": {
        "colab": {
          "base_uri": "https://localhost:8080/",
          "height": 350
        },
        "id": "l5_qpommNxZn",
        "outputId": "bf7f17ab-cf8c-4ebe-af2d-54cc73c6a049"
      },
      "source": [
        "sns.countplot(data['billboard_hit'], label = \"Count\")"
      ],
      "execution_count": 37,
      "outputs": [
        {
          "output_type": "stream",
          "text": [
            "/usr/local/lib/python3.7/dist-packages/seaborn/_decorators.py:43: FutureWarning: Pass the following variable as a keyword arg: x. From version 0.12, the only valid positional argument will be `data`, and passing other arguments without an explicit keyword will result in an error or misinterpretation.\n",
            "  FutureWarning\n"
          ],
          "name": "stderr"
        },
        {
          "output_type": "execute_result",
          "data": {
            "text/plain": [
              "<matplotlib.axes._subplots.AxesSubplot at 0x7f7f8a8b5250>"
            ]
          },
          "metadata": {
            "tags": []
          },
          "execution_count": 37
        },
        {
          "output_type": "display_data",
          "data": {
            "image/png": "[encoded data removed]",
            "text/plain": [
              "<Figure size 432x288 with 1 Axes>"
            ]
          },
          "metadata": {
            "tags": [],
            "needs_background": "light"
          }
        }
      ]
    },
    {
      "cell_type": "code",
      "metadata": {
        "id": "pk-nojEUNxZo"
      },
      "source": [
        "y = data['billboard_hit']\n",
        "x = data.drop(['billboard_hit','Track','Artist','SpotifyID'],axis=1)"
      ],
      "execution_count": 38,
      "outputs": []
    },
    {
      "cell_type": "code",
      "metadata": {
        "colab": {
          "base_uri": "https://localhost:8080/",
          "height": 417
        },
        "id": "OlVN2zaxNxZo",
        "outputId": "3b527c33-2300-4b3c-bcee-99ae218e6674"
      },
      "source": [
        "\n",
        "x"
      ],
      "execution_count": 39,
      "outputs": [
        {
          "output_type": "execute_result",
          "data": {
            "text/html": [
              "<div>\n",
              "<style scoped>\n",
              "    .dataframe tbody tr th:only-of-type {\n",
              "        vertical-align: middle;\n",
              "    }\n",
              "\n",
              "    .dataframe tbody tr th {\n",
              "        vertical-align: top;\n",
              "    }\n",
              "\n",
              "    .dataframe thead th {\n",
              "        text-align: right;\n",
              "    }\n",
              "</style>\n",
              "<table border=\"1\" class=\"dataframe\">\n",
              "  <thead>\n",
              "    <tr style=\"text-align: right;\">\n",
              "      <th></th>\n",
              "      <th>danceability</th>\n",
              "      <th>energy</th>\n",
              "      <th>loudness</th>\n",
              "      <th>speechiness</th>\n",
              "      <th>acousticness</th>\n",
              "      <th>instrumentalness</th>\n",
              "      <th>liveness</th>\n",
              "      <th>valence</th>\n",
              "      <th>tempo</th>\n",
              "      <th>Key_mode_Ratio</th>\n",
              "      <th>duration_ms</th>\n",
              "    </tr>\n",
              "  </thead>\n",
              "  <tbody>\n",
              "    <tr>\n",
              "      <th>0</th>\n",
              "      <td>0.699</td>\n",
              "      <td>0.519</td>\n",
              "      <td>-6.422</td>\n",
              "      <td>0.0290</td>\n",
              "      <td>0.689000</td>\n",
              "      <td>0.000471</td>\n",
              "      <td>0.9350</td>\n",
              "      <td>0.676</td>\n",
              "      <td>102.463</td>\n",
              "      <td>8.0</td>\n",
              "      <td>183027</td>\n",
              "    </tr>\n",
              "    <tr>\n",
              "      <th>1</th>\n",
              "      <td>0.458</td>\n",
              "      <td>0.570</td>\n",
              "      <td>-9.159</td>\n",
              "      <td>0.0495</td>\n",
              "      <td>0.000055</td>\n",
              "      <td>0.000768</td>\n",
              "      <td>0.0988</td>\n",
              "      <td>0.203</td>\n",
              "      <td>146.609</td>\n",
              "      <td>0.0</td>\n",
              "      <td>218907</td>\n",
              "    </tr>\n",
              "    <tr>\n",
              "      <th>2</th>\n",
              "      <td>0.751</td>\n",
              "      <td>0.549</td>\n",
              "      <td>-10.508</td>\n",
              "      <td>0.4290</td>\n",
              "      <td>0.063000</td>\n",
              "      <td>0.000025</td>\n",
              "      <td>0.1060</td>\n",
              "      <td>0.553</td>\n",
              "      <td>92.224</td>\n",
              "      <td>0.0</td>\n",
              "      <td>218933</td>\n",
              "    </tr>\n",
              "    <tr>\n",
              "      <th>3</th>\n",
              "      <td>0.456</td>\n",
              "      <td>0.472</td>\n",
              "      <td>-8.328</td>\n",
              "      <td>0.0325</td>\n",
              "      <td>0.706000</td>\n",
              "      <td>0.000005</td>\n",
              "      <td>0.0833</td>\n",
              "      <td>0.286</td>\n",
              "      <td>147.565</td>\n",
              "      <td>5.0</td>\n",
              "      <td>267640</td>\n",
              "    </tr>\n",
              "    <tr>\n",
              "      <th>4</th>\n",
              "      <td>0.498</td>\n",
              "      <td>0.300</td>\n",
              "      <td>-10.716</td>\n",
              "      <td>0.0352</td>\n",
              "      <td>0.553000</td>\n",
              "      <td>0.000116</td>\n",
              "      <td>0.0963</td>\n",
              "      <td>0.185</td>\n",
              "      <td>100.315</td>\n",
              "      <td>7.0</td>\n",
              "      <td>189560</td>\n",
              "    </tr>\n",
              "    <tr>\n",
              "      <th>...</th>\n",
              "      <td>...</td>\n",
              "      <td>...</td>\n",
              "      <td>...</td>\n",
              "      <td>...</td>\n",
              "      <td>...</td>\n",
              "      <td>...</td>\n",
              "      <td>...</td>\n",
              "      <td>...</td>\n",
              "      <td>...</td>\n",
              "      <td>...</td>\n",
              "      <td>...</td>\n",
              "    </tr>\n",
              "    <tr>\n",
              "      <th>14632</th>\n",
              "      <td>0.893</td>\n",
              "      <td>0.523</td>\n",
              "      <td>-11.157</td>\n",
              "      <td>0.0986</td>\n",
              "      <td>0.003360</td>\n",
              "      <td>0.000500</td>\n",
              "      <td>0.0833</td>\n",
              "      <td>0.949</td>\n",
              "      <td>132.737</td>\n",
              "      <td>1.0</td>\n",
              "      <td>260441</td>\n",
              "    </tr>\n",
              "    <tr>\n",
              "      <th>14633</th>\n",
              "      <td>0.867</td>\n",
              "      <td>0.911</td>\n",
              "      <td>-7.375</td>\n",
              "      <td>0.1150</td>\n",
              "      <td>0.023900</td>\n",
              "      <td>0.000000</td>\n",
              "      <td>0.0491</td>\n",
              "      <td>0.675</td>\n",
              "      <td>124.810</td>\n",
              "      <td>0.0</td>\n",
              "      <td>215040</td>\n",
              "    </tr>\n",
              "    <tr>\n",
              "      <th>14634</th>\n",
              "      <td>0.763</td>\n",
              "      <td>0.505</td>\n",
              "      <td>-13.669</td>\n",
              "      <td>0.0753</td>\n",
              "      <td>0.179000</td>\n",
              "      <td>0.001070</td>\n",
              "      <td>0.0497</td>\n",
              "      <td>0.960</td>\n",
              "      <td>105.632</td>\n",
              "      <td>0.0</td>\n",
              "      <td>383333</td>\n",
              "    </tr>\n",
              "    <tr>\n",
              "      <th>14635</th>\n",
              "      <td>0.834</td>\n",
              "      <td>0.485</td>\n",
              "      <td>-13.040</td>\n",
              "      <td>0.0453</td>\n",
              "      <td>0.047800</td>\n",
              "      <td>0.000051</td>\n",
              "      <td>0.1030</td>\n",
              "      <td>0.929</td>\n",
              "      <td>107.598</td>\n",
              "      <td>11.0</td>\n",
              "      <td>368467</td>\n",
              "    </tr>\n",
              "    <tr>\n",
              "      <th>14636</th>\n",
              "      <td>0.604</td>\n",
              "      <td>0.316</td>\n",
              "      <td>-14.674</td>\n",
              "      <td>0.0302</td>\n",
              "      <td>0.560000</td>\n",
              "      <td>0.000012</td>\n",
              "      <td>0.0905</td>\n",
              "      <td>0.391</td>\n",
              "      <td>129.693</td>\n",
              "      <td>2.0</td>\n",
              "      <td>302973</td>\n",
              "    </tr>\n",
              "  </tbody>\n",
              "</table>\n",
              "<p>14637 rows × 11 columns</p>\n",
              "</div>"
            ],
            "text/plain": [
              "       danceability  energy  loudness  ...    tempo  Key_mode_Ratio  duration_ms\n",
              "0             0.699   0.519    -6.422  ...  102.463             8.0       183027\n",
              "1             0.458   0.570    -9.159  ...  146.609             0.0       218907\n",
              "2             0.751   0.549   -10.508  ...   92.224             0.0       218933\n",
              "3             0.456   0.472    -8.328  ...  147.565             5.0       267640\n",
              "4             0.498   0.300   -10.716  ...  100.315             7.0       189560\n",
              "...             ...     ...       ...  ...      ...             ...          ...\n",
              "14632         0.893   0.523   -11.157  ...  132.737             1.0       260441\n",
              "14633         0.867   0.911    -7.375  ...  124.810             0.0       215040\n",
              "14634         0.763   0.505   -13.669  ...  105.632             0.0       383333\n",
              "14635         0.834   0.485   -13.040  ...  107.598            11.0       368467\n",
              "14636         0.604   0.316   -14.674  ...  129.693             2.0       302973\n",
              "\n",
              "[14637 rows x 11 columns]"
            ]
          },
          "metadata": {
            "tags": []
          },
          "execution_count": 39
        }
      ]
    },
    {
      "cell_type": "code",
      "metadata": {
        "colab": {
          "base_uri": "https://localhost:8080/"
        },
        "id": "uwY6LRSjNxZp",
        "outputId": "da91ba12-075b-4f72-e60a-83fff2405988"
      },
      "source": [
        "y"
      ],
      "execution_count": 40,
      "outputs": [
        {
          "output_type": "execute_result",
          "data": {
            "text/plain": [
              "0        0\n",
              "1        0\n",
              "2        0\n",
              "3        0\n",
              "4        0\n",
              "        ..\n",
              "14632    1\n",
              "14633    1\n",
              "14634    1\n",
              "14635    1\n",
              "14636    1\n",
              "Name: billboard_hit, Length: 14637, dtype: int64"
            ]
          },
          "metadata": {
            "tags": []
          },
          "execution_count": 40
        }
      ]
    },
    {
      "cell_type": "code",
      "metadata": {
        "id": "Ejq-MEF-NxZq"
      },
      "source": [
        "#Split the dataset into both training and testing sets\n",
        "\n",
        "from sklearn.model_selection import train_test_split\n",
        "\n",
        "x_train, x_test, y_train, y_test = train_test_split(x,y, test_size = 0.25, random_state = 0 )"
      ],
      "execution_count": 41,
      "outputs": []
    },
    {
      "cell_type": "code",
      "metadata": {
        "colab": {
          "base_uri": "https://localhost:8080/"
        },
        "id": "xm6nCpa4NxZr",
        "outputId": "7dd4029c-1d91-4ec0-9b47-3cd354523a2f"
      },
      "source": [
        "# train the model on train set\n",
        "from sklearn.metrics import classification_report, confusion_matrix\n",
        "from sklearn.svm import SVC\n",
        "svc = SVC()\n",
        "model = SVC()\n",
        "model.fit(x_train, y_train)\n",
        "  \n",
        "# print prediction results\n",
        "predictions = model.predict(x_test)\n",
        "print(classification_report(y_test, predictions))"
      ],
      "execution_count": 42,
      "outputs": [
        {
          "output_type": "stream",
          "text": [
            "              precision    recall  f1-score   support\n",
            "\n",
            "           0       0.71      0.26      0.38      1311\n",
            "           1       0.70      0.94      0.80      2349\n",
            "\n",
            "    accuracy                           0.70      3660\n",
            "   macro avg       0.70      0.60      0.59      3660\n",
            "weighted avg       0.70      0.70      0.65      3660\n",
            "\n"
          ],
          "name": "stdout"
        }
      ]
    },
    {
      "cell_type": "code",
      "metadata": {
        "colab": {
          "base_uri": "https://localhost:8080/"
        },
        "id": "vbsgOsQsNxZs",
        "outputId": "bc073813-aab8-47f3-8b58-8acd9bb48a76"
      },
      "source": [
        "from sklearn.svm import LinearSVC\n",
        "\n",
        "lin_clf = LinearSVC(random_state=42)\n",
        "lin_clf.fit(x_train, y_train)"
      ],
      "execution_count": 43,
      "outputs": [
        {
          "output_type": "stream",
          "text": [
            "/usr/local/lib/python3.7/dist-packages/sklearn/svm/_base.py:947: ConvergenceWarning: Liblinear failed to converge, increase the number of iterations.\n",
            "  \"the number of iterations.\", ConvergenceWarning)\n"
          ],
          "name": "stderr"
        },
        {
          "output_type": "execute_result",
          "data": {
            "text/plain": [
              "LinearSVC(C=1.0, class_weight=None, dual=True, fit_intercept=True,\n",
              "          intercept_scaling=1, loss='squared_hinge', max_iter=1000,\n",
              "          multi_class='ovr', penalty='l2', random_state=42, tol=0.0001,\n",
              "          verbose=0)"
            ]
          },
          "metadata": {
            "tags": []
          },
          "execution_count": 43
        }
      ]
    },
    {
      "cell_type": "code",
      "metadata": {
        "colab": {
          "base_uri": "https://localhost:8080/"
        },
        "id": "Y0nX2hi4NxZs",
        "outputId": "a0ceb80a-4113-47e7-83b6-5b4ad165c040"
      },
      "source": [
        "from sklearn.metrics import accuracy_score\n",
        "\n",
        "y_pred = lin_clf.predict(x_train)\n",
        "accuracy_score(y_train, y_pred)"
      ],
      "execution_count": 44,
      "outputs": [
        {
          "output_type": "execute_result",
          "data": {
            "text/plain": [
              "0.631866630226838"
            ]
          },
          "metadata": {
            "tags": []
          },
          "execution_count": 44
        }
      ]
    },
    {
      "cell_type": "code",
      "metadata": {
        "colab": {
          "base_uri": "https://localhost:8080/"
        },
        "id": "dRyx5kVqNxZt",
        "outputId": "961f83ba-738e-442f-f8e3-035c26a25084"
      },
      "source": [
        "from sklearn.preprocessing import StandardScaler\n",
        "\n",
        "scaler = StandardScaler()\n",
        "x_train_scaled = scaler.fit_transform(x_train.astype(np.float32))\n",
        "x_test_scaled = scaler.transform(x_test.astype(np.float32))\n",
        "lin_clf = LinearSVC(random_state=0)\n",
        "lin_clf.fit(x_train_scaled, y_train)"
      ],
      "execution_count": 45,
      "outputs": [
        {
          "output_type": "stream",
          "text": [
            "/usr/local/lib/python3.7/dist-packages/sklearn/svm/_base.py:947: ConvergenceWarning: Liblinear failed to converge, increase the number of iterations.\n",
            "  \"the number of iterations.\", ConvergenceWarning)\n"
          ],
          "name": "stderr"
        },
        {
          "output_type": "execute_result",
          "data": {
            "text/plain": [
              "LinearSVC(C=1.0, class_weight=None, dual=True, fit_intercept=True,\n",
              "          intercept_scaling=1, loss='squared_hinge', max_iter=1000,\n",
              "          multi_class='ovr', penalty='l2', random_state=0, tol=0.0001,\n",
              "          verbose=0)"
            ]
          },
          "metadata": {
            "tags": []
          },
          "execution_count": 45
        }
      ]
    },
    {
      "cell_type": "code",
      "metadata": {
        "colab": {
          "base_uri": "https://localhost:8080/"
        },
        "id": "4X6kr18ONxZt",
        "outputId": "2d6079bc-059c-44f0-d5ae-9a8495ad8d1d"
      },
      "source": [
        "from sklearn.svm import SVC\n",
        "y_pred = lin_clf.predict(x_train_scaled)\n",
        "accuracy_score(y_train, y_pred)"
      ],
      "execution_count": 46,
      "outputs": [
        {
          "output_type": "execute_result",
          "data": {
            "text/plain": [
              "0.7682426892593605"
            ]
          },
          "metadata": {
            "tags": []
          },
          "execution_count": 46
        }
      ]
    },
    {
      "cell_type": "code",
      "metadata": {
        "colab": {
          "base_uri": "https://localhost:8080/"
        },
        "id": "msD664Q0NxZu",
        "outputId": "67bb5d46-f013-496a-acc1-691f7c7a53eb"
      },
      "source": [
        "svm_clf = SVC(gamma=\"scale\")\n",
        "svm_clf.fit(x_train_scaled[:10000], y_train[:10000])"
      ],
      "execution_count": 47,
      "outputs": [
        {
          "output_type": "execute_result",
          "data": {
            "text/plain": [
              "SVC(C=1.0, break_ties=False, cache_size=200, class_weight=None, coef0=0.0,\n",
              "    decision_function_shape='ovr', degree=3, gamma='scale', kernel='rbf',\n",
              "    max_iter=-1, probability=False, random_state=None, shrinking=True,\n",
              "    tol=0.001, verbose=False)"
            ]
          },
          "metadata": {
            "tags": []
          },
          "execution_count": 47
        }
      ]
    },
    {
      "cell_type": "code",
      "metadata": {
        "colab": {
          "base_uri": "https://localhost:8080/"
        },
        "id": "RCrTbA-BNxZu",
        "outputId": "fd6de1d8-6782-4c99-c6dd-fed2a9c1caa7"
      },
      "source": [
        "from sklearn.model_selection import RandomizedSearchCV\n",
        "from scipy.stats import reciprocal, uniform\n",
        "\n",
        "param_distributions = {\"gamma\": reciprocal(0.001, 0.1), \"C\": uniform(1, 10)}\n",
        "rnd_search_cv = RandomizedSearchCV(svm_clf, param_distributions, n_iter=10, verbose=2, cv=3)\n",
        "rnd_search_cv.fit(x_train_scaled[:1000], y_train[:1000])"
      ],
      "execution_count": 48,
      "outputs": [
        {
          "output_type": "stream",
          "text": [
            "Fitting 3 folds for each of 10 candidates, totalling 30 fits\n",
            "[CV] C=3.3136300942489294, gamma=0.01711167140410419 .................\n",
            "[CV] .. C=3.3136300942489294, gamma=0.01711167140410419, total=   0.0s\n",
            "[CV] C=3.3136300942489294, gamma=0.01711167140410419 .................\n",
            "[CV] .. C=3.3136300942489294, gamma=0.01711167140410419, total=   0.0s\n",
            "[CV] C=3.3136300942489294, gamma=0.01711167140410419 .................\n",
            "[CV] .. C=3.3136300942489294, gamma=0.01711167140410419, total=   0.0s\n",
            "[CV] C=5.768749292787206, gamma=0.013029625072491316 .................\n",
            "[CV] .. C=5.768749292787206, gamma=0.013029625072491316, total=   0.0s\n",
            "[CV] C=5.768749292787206, gamma=0.013029625072491316 .................\n",
            "[CV] .. C=5.768749292787206, gamma=0.013029625072491316, total=   0.0s\n",
            "[CV] C=5.768749292787206, gamma=0.013029625072491316 .................\n",
            "[CV] .. C=5.768749292787206, gamma=0.013029625072491316, total=   0.0s\n",
            "[CV] C=6.687771084517383, gamma=0.03434150777599902 ..................\n",
            "[CV] ... C=6.687771084517383, gamma=0.03434150777599902, total=   0.0s\n",
            "[CV] C=6.687771084517383, gamma=0.03434150777599902 ..................\n",
            "[CV] ... C=6.687771084517383, gamma=0.03434150777599902, total=   0.0s\n",
            "[CV] C=6.687771084517383, gamma=0.03434150777599902 ..................\n"
          ],
          "name": "stdout"
        },
        {
          "output_type": "stream",
          "text": [
            "[Parallel(n_jobs=1)]: Using backend SequentialBackend with 1 concurrent workers.\n",
            "[Parallel(n_jobs=1)]: Done   1 out of   1 | elapsed:    0.0s remaining:    0.0s\n"
          ],
          "name": "stderr"
        },
        {
          "output_type": "stream",
          "text": [
            "[CV] ... C=6.687771084517383, gamma=0.03434150777599902, total=   0.0s\n",
            "[CV] C=1.4517654305277763, gamma=0.0433031769924914 ..................\n",
            "[CV] ... C=1.4517654305277763, gamma=0.0433031769924914, total=   0.0s\n",
            "[CV] C=1.4517654305277763, gamma=0.0433031769924914 ..................\n",
            "[CV] ... C=1.4517654305277763, gamma=0.0433031769924914, total=   0.0s\n",
            "[CV] C=1.4517654305277763, gamma=0.0433031769924914 ..................\n",
            "[CV] ... C=1.4517654305277763, gamma=0.0433031769924914, total=   0.0s\n",
            "[CV] C=3.6653424108692656, gamma=0.002806644248998981 ................\n",
            "[CV] . C=3.6653424108692656, gamma=0.002806644248998981, total=   0.0s\n",
            "[CV] C=3.6653424108692656, gamma=0.002806644248998981 ................\n",
            "[CV] . C=3.6653424108692656, gamma=0.002806644248998981, total=   0.0s\n",
            "[CV] C=3.6653424108692656, gamma=0.002806644248998981 ................\n",
            "[CV] . C=3.6653424108692656, gamma=0.002806644248998981, total=   0.0s\n",
            "[CV] C=4.415502951819787, gamma=0.018885908328350222 .................\n",
            "[CV] .. C=4.415502951819787, gamma=0.018885908328350222, total=   0.0s\n",
            "[CV] C=4.415502951819787, gamma=0.018885908328350222 .................\n",
            "[CV] .. C=4.415502951819787, gamma=0.018885908328350222, total=   0.0s\n",
            "[CV] C=4.415502951819787, gamma=0.018885908328350222 .................\n",
            "[CV] .. C=4.415502951819787, gamma=0.018885908328350222, total=   0.0s\n",
            "[CV] C=9.35423298278706, gamma=0.01878438038914587 ...................\n",
            "[CV] .... C=9.35423298278706, gamma=0.01878438038914587, total=   0.0s\n",
            "[CV] C=9.35423298278706, gamma=0.01878438038914587 ...................\n",
            "[CV] .... C=9.35423298278706, gamma=0.01878438038914587, total=   0.0s\n",
            "[CV] C=9.35423298278706, gamma=0.01878438038914587 ...................\n",
            "[CV] .... C=9.35423298278706, gamma=0.01878438038914587, total=   0.0s\n",
            "[CV] C=5.160999308055501, gamma=0.018107859180575402 .................\n",
            "[CV] .. C=5.160999308055501, gamma=0.018107859180575402, total=   0.0s\n",
            "[CV] C=5.160999308055501, gamma=0.018107859180575402 .................\n",
            "[CV] .. C=5.160999308055501, gamma=0.018107859180575402, total=   0.0s\n",
            "[CV] C=5.160999308055501, gamma=0.018107859180575402 .................\n",
            "[CV] .. C=5.160999308055501, gamma=0.018107859180575402, total=   0.0s\n",
            "[CV] C=8.9315324629273, gamma=0.005008538216714281 ...................\n",
            "[CV] .... C=8.9315324629273, gamma=0.005008538216714281, total=   0.0s\n",
            "[CV] C=8.9315324629273, gamma=0.005008538216714281 ...................\n",
            "[CV] .... C=8.9315324629273, gamma=0.005008538216714281, total=   0.0s\n",
            "[CV] C=8.9315324629273, gamma=0.005008538216714281 ...................\n",
            "[CV] .... C=8.9315324629273, gamma=0.005008538216714281, total=   0.0s\n",
            "[CV] C=2.7302232153411836, gamma=0.08176653822307639 .................\n",
            "[CV] .. C=2.7302232153411836, gamma=0.08176653822307639, total=   0.0s\n",
            "[CV] C=2.7302232153411836, gamma=0.08176653822307639 .................\n",
            "[CV] .. C=2.7302232153411836, gamma=0.08176653822307639, total=   0.0s\n",
            "[CV] C=2.7302232153411836, gamma=0.08176653822307639 .................\n",
            "[CV] .. C=2.7302232153411836, gamma=0.08176653822307639, total=   0.0s\n"
          ],
          "name": "stdout"
        },
        {
          "output_type": "stream",
          "text": [
            "[Parallel(n_jobs=1)]: Done  30 out of  30 | elapsed:    0.7s finished\n"
          ],
          "name": "stderr"
        },
        {
          "output_type": "execute_result",
          "data": {
            "text/plain": [
              "RandomizedSearchCV(cv=3, error_score=nan,\n",
              "                   estimator=SVC(C=1.0, break_ties=False, cache_size=200,\n",
              "                                 class_weight=None, coef0=0.0,\n",
              "                                 decision_function_shape='ovr', degree=3,\n",
              "                                 gamma='scale', kernel='rbf', max_iter=-1,\n",
              "                                 probability=False, random_state=None,\n",
              "                                 shrinking=True, tol=0.001, verbose=False),\n",
              "                   iid='deprecated', n_iter=10, n_jobs=None,\n",
              "                   param_distributions={'C': <scipy.stats._distn_infrastructure.rv_frozen object at 0x7f7f8a24c3d0>,\n",
              "                                        'gamma': <scipy.stats._distn_infrastructure.rv_frozen object at 0x7f7f8a24c8d0>},\n",
              "                   pre_dispatch='2*n_jobs', random_state=None, refit=True,\n",
              "                   return_train_score=False, scoring=None, verbose=2)"
            ]
          },
          "metadata": {
            "tags": []
          },
          "execution_count": 48
        }
      ]
    },
    {
      "cell_type": "code",
      "metadata": {
        "colab": {
          "base_uri": "https://localhost:8080/"
        },
        "id": "hq7V8yVNNxZu",
        "outputId": "4bf9fa94-6c4c-4f5f-f811-8aaaca8b4789"
      },
      "source": [
        "rnd_search_cv.best_estimator_"
      ],
      "execution_count": 49,
      "outputs": [
        {
          "output_type": "execute_result",
          "data": {
            "text/plain": [
              "SVC(C=6.687771084517383, break_ties=False, cache_size=200, class_weight=None,\n",
              "    coef0=0.0, decision_function_shape='ovr', degree=3,\n",
              "    gamma=0.03434150777599902, kernel='rbf', max_iter=-1, probability=False,\n",
              "    random_state=None, shrinking=True, tol=0.001, verbose=False)"
            ]
          },
          "metadata": {
            "tags": []
          },
          "execution_count": 49
        }
      ]
    },
    {
      "cell_type": "code",
      "metadata": {
        "colab": {
          "base_uri": "https://localhost:8080/"
        },
        "id": "BWMd6wK2NxZu",
        "outputId": "75427998-2cb7-4daf-d177-4f5f8f064a6a"
      },
      "source": [
        "rnd_search_cv.best_score_"
      ],
      "execution_count": 50,
      "outputs": [
        {
          "output_type": "execute_result",
          "data": {
            "text/plain": [
              "0.7970605335874796"
            ]
          },
          "metadata": {
            "tags": []
          },
          "execution_count": 50
        }
      ]
    },
    {
      "cell_type": "code",
      "metadata": {
        "colab": {
          "base_uri": "https://localhost:8080/"
        },
        "id": "4BkfbvajNxZu",
        "outputId": "04a458c9-ad1b-4896-953f-a09a3b0e430a"
      },
      "source": [
        "rnd_search_cv.best_estimator_.fit(x_train_scaled, y_train)"
      ],
      "execution_count": 51,
      "outputs": [
        {
          "output_type": "execute_result",
          "data": {
            "text/plain": [
              "SVC(C=6.687771084517383, break_ties=False, cache_size=200, class_weight=None,\n",
              "    coef0=0.0, decision_function_shape='ovr', degree=3,\n",
              "    gamma=0.03434150777599902, kernel='rbf', max_iter=-1, probability=False,\n",
              "    random_state=None, shrinking=True, tol=0.001, verbose=False)"
            ]
          },
          "metadata": {
            "tags": []
          },
          "execution_count": 51
        }
      ]
    },
    {
      "cell_type": "code",
      "metadata": {
        "colab": {
          "base_uri": "https://localhost:8080/"
        },
        "id": "h5lIW80INxZv",
        "outputId": "a5a9230f-3cba-4ac5-c041-d7592a682e53"
      },
      "source": [
        "y_pred = rnd_search_cv.best_estimator_.predict(x_test_scaled)\n",
        "accuracy_score(y_test, y_pred)"
      ],
      "execution_count": 52,
      "outputs": [
        {
          "output_type": "execute_result",
          "data": {
            "text/plain": [
              "0.7948087431693989"
            ]
          },
          "metadata": {
            "tags": []
          },
          "execution_count": 52
        }
      ]
    },
    {
      "cell_type": "code",
      "metadata": {
        "id": "H8TsijsfR2tT"
      },
      "source": [
        "from sklearn.model_selection import cross_val_score\n",
        "score1 = cross_val_score(rnd_search_cv.best_estimator_, x_test_scaled, y_test, cv=5)"
      ],
      "execution_count": 53,
      "outputs": []
    },
    {
      "cell_type": "code",
      "metadata": {
        "colab": {
          "base_uri": "https://localhost:8080/"
        },
        "id": "K8ap-5TDVqZb",
        "outputId": "4149a4bd-4e36-46ec-d133-147528f452a4"
      },
      "source": [
        "print(\"%0.2f accuracy with a standard deviation of %0.2f\" % (score1.mean(), score1.std()))"
      ],
      "execution_count": 54,
      "outputs": [
        {
          "output_type": "stream",
          "text": [
            "0.79 accuracy with a standard deviation of 0.01\n"
          ],
          "name": "stdout"
        }
      ]
    },
    {
      "cell_type": "markdown",
      "metadata": {
        "id": "-VjWgL-EWm2M"
      },
      "source": [
        "We have got 79-80% accuracy as best accuracy for SVM model."
      ]
    },
    {
      "cell_type": "markdown",
      "metadata": {
        "id": "QxfmL-N6WYwp"
      },
      "source": [
        "Random Forest Model"
      ]
    },
    {
      "cell_type": "code",
      "metadata": {
        "id": "yJ2OnKMbPQbx"
      },
      "source": [
        "import numpy as np\n",
        "from sklearn.model_selection import train_test_split \n",
        "from sklearn.metrics import confusion_matrix\n",
        "from sklearn.metrics import accuracy_score\n",
        "from sklearn.preprocessing import StandardScaler"
      ],
      "execution_count": 55,
      "outputs": []
    },
    {
      "cell_type": "code",
      "metadata": {
        "id": "hpXRBfkXOyku"
      },
      "source": [
        "data['duration_ms']=np.log(data['duration_ms'])"
      ],
      "execution_count": 56,
      "outputs": []
    },
    {
      "cell_type": "code",
      "metadata": {
        "id": "YMDlyp3ZPHZJ"
      },
      "source": [
        "df_X=data.drop(['billboard_hit','Track','Artist','SpotifyID'],axis=1)\n",
        "df_Y=data['billboard_hit']"
      ],
      "execution_count": 57,
      "outputs": []
    },
    {
      "cell_type": "code",
      "metadata": {
        "id": "wnutVtmyNxZv"
      },
      "source": [
        "from sklearn.decomposition import PCA\n",
        "pca = PCA(n_components=10)\n",
        "pca.fit(df_X)\n",
        "X_pca = pca.transform(df_X)\n",
        "from sklearn.model_selection import train_test_split\n",
        "X_train,X_test,Y_train,Y_test=train_test_split(X_pca, df_Y, test_size=0.2, random_state=101)"
      ],
      "execution_count": 58,
      "outputs": []
    },
    {
      "cell_type": "code",
      "metadata": {
        "id": "jJnHAbPVOWva"
      },
      "source": [
        "s_scaler=StandardScaler()\n",
        "X_train=s_scaler.fit_transform(X_train.astype(np.float))\n",
        "X_test=s_scaler.transform(X_test.astype(np.float))"
      ],
      "execution_count": 59,
      "outputs": []
    },
    {
      "cell_type": "code",
      "metadata": {
        "colab": {
          "base_uri": "https://localhost:8080/"
        },
        "id": "gyEiDq-2OaQJ",
        "outputId": "aec43ea9-65c3-4e85-9950-16e19cd0de8b"
      },
      "source": [
        "from sklearn.ensemble import RandomForestClassifier\n",
        "forestVC=RandomForestClassifier(random_state=1,n_estimators=150,max_depth=16,min_samples_split=5,min_samples_leaf=1,max_features=\"sqrt\") \n",
        "modelVC=forestVC.fit(X_train, Y_train) \n",
        "y_predVC=modelVC.predict(X_test)\n",
        "print(\"Accuracy:\",accuracy_score(y_predVC,Y_test)*100)"
      ],
      "execution_count": 60,
      "outputs": [
        {
          "output_type": "stream",
          "text": [
            "Accuracy: 80.63524590163934\n"
          ],
          "name": "stdout"
        }
      ]
    },
    {
      "cell_type": "code",
      "metadata": {
        "id": "MliBQnt5OdoI"
      },
      "source": [
        "from sklearn.model_selection import train_test_split\n",
        "X_train,X_test,Y_train,Y_test=train_test_split(df_X, df_Y, test_size=0.2, random_state=101)"
      ],
      "execution_count": 61,
      "outputs": []
    },
    {
      "cell_type": "code",
      "metadata": {
        "colab": {
          "base_uri": "https://localhost:8080/"
        },
        "id": "9CgoVsBfOn2O",
        "outputId": "6006626d-b922-44fd-cae1-d8481455a3aa"
      },
      "source": [
        "forestVC=RandomForestClassifier(random_state=1,n_estimators=100,max_depth=17,min_samples_split=4,min_samples_leaf = 1,max_features=\"sqrt\") \n",
        "finalVC=forestVC.fit(X_train, Y_train) \n",
        "y_predVC2=finalVC.predict(X_test)\n",
        "print(\"Accuracy:\",accuracy_score(y_predVC2,Y_test)*100)"
      ],
      "execution_count": 62,
      "outputs": [
        {
          "output_type": "stream",
          "text": [
            "Accuracy: 80.97677595628416\n"
          ],
          "name": "stdout"
        }
      ]
    },
    {
      "cell_type": "code",
      "metadata": {
        "colab": {
          "base_uri": "https://localhost:8080/"
        },
        "id": "CFbJIpY0V6rS",
        "outputId": "25c9c8c2-a641-4253-d781-17ccd946189a"
      },
      "source": [
        "from sklearn.model_selection import cross_val_score\n",
        "score2=cross_val_score(forestVC,X_test,Y_test,cv=5)\n",
        "print(\"%f accuracy with a standard deviation of %f\" % (round(score2.mean(),2), score2.std()))"
      ],
      "execution_count": 63,
      "outputs": [
        {
          "output_type": "stream",
          "text": [
            "0.800000 accuracy with a standard deviation of 0.013266\n"
          ],
          "name": "stdout"
        }
      ]
    },
    {
      "cell_type": "code",
      "metadata": {
        "id": "fSTm-eOX4SKM"
      },
      "source": [
        "import pickle\n",
        "pickle.dump(finalVC,open('forest_model1.pkl','wb'))"
      ],
      "execution_count": 64,
      "outputs": []
    },
    {
      "cell_type": "markdown",
      "metadata": {
        "id": "WqtDEWQ4WteM"
      },
      "source": [
        "We have got 81% accuracy as best accuracy for Random Forest model."
      ]
    }
  ]
}